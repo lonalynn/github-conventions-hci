{
  "nbformat": 4,
  "nbformat_minor": 0,
  "metadata": {
    "colab": {
      "provenance": []
    },
    "kernelspec": {
      "name": "python3",
      "display_name": "Python 3"
    },
    "language_info": {
      "name": "python"
    }
  },
  "cells": [
    {
      "cell_type": "markdown",
      "source": [
        "Oh, hey there! So you want to learn more about Git conventions?\n",
        "\n",
        "Today, we'll be talking about a lot of the amazing organizational tools that Git (and particularly GitHub) offer to developers to create codebases that are organized, well-documented, and elegant.\n",
        "\n",
        "Since this is a Google Colab, all commands are in code blocks so they're easy to copy and formatted to be popped directly into your terminal.\n",
        "\n",
        "\n",
        "\n"
      ],
      "metadata": {
        "id": "g7xm7Sv8oICa"
      }
    },
    {
      "cell_type": "markdown",
      "source": [
        "## Branching\n",
        "\n",
        "The first Git tool we'll discuss is branching. **Branching is the act of creating a \"clone\" of your `master` branch to develop out features and bugfixes.**\n",
        "\n",
        "**Why is this important?**\n",
        "\n",
        "1.   **Version Control!** Branches are effectively a pointer to a snapshot of your changes. They prevent bugs from making it to the main code base, and help you clean up your features before officially deploying them.\n",
        "\n",
        "2. **Better workflow!** Branches help create individual environments for different developers to build out different features. This allows multiple features to be developed in sync, and enables feature tracking.\n",
        "\n",
        "3. **Stability!** As I mentioned before, branches make sure that your `master` branch stays stable and runnable, even if your branched version is not working.\n",
        "\n",
        "4. **PULL REQUESTS!!!** We'll get into these later. They're extremely important for a thoroughly documented commit history.\n",
        "\n",
        "Let's get into how branching is used."
      ],
      "metadata": {
        "id": "msWNGXiypcyG"
      }
    },
    {
      "cell_type": "markdown",
      "source": [
        "## Branches for Parallel Development\n",
        "\n",
        "Supporting branches are used to in aid parallel development between team members, ease tracking of features, and to assist in quickly fixing live production problems. These branches always have a limited life time, since they will be merged to main eventually.\n",
        "\n",
        "Master should never be committed to freely - this could lead to production issues if buggy code is committed! Instead, **when we work on building out parts of our project, we create and commit to branches** - keeping in-progress work separate from a stable master.\n",
        "\n",
        "We primarily use branches for **features**, **bugfixes/feature adjustments**, and **hotfixes**."
      ],
      "metadata": {
        "id": "tTPAfRmsCszC"
      }
    },
    {
      "cell_type": "markdown",
      "source": [
        "\n",
        "### **Feature Branches**\n",
        "\n",
        "**Feature branches are used when we want to build out a new feature**. For example, maybe we're adding a new page to the frontend, or new functionality to the backend.\n",
        "\n",
        "Generally speaking, feature branches are used when developing a new feature or enhancement which has **the potential of a development lifespan longer than a single deployment**. In HCI lab terms, this may be a feature we're working on for multiple weeks!\n",
        "\n",
        "In naming our feature branches, it may be beneficial to follow the naming convention of `feature-id` where `id` is the name of the feature. For example, `feature-aboutpage`!\n",
        "\n",
        "Follow along with the code below to create a new branch named \"feature-id\" from master, then push it to master to make it available remotely.\n",
        "\n",
        "When you create this branch on your local machine, your local machine will be on branch `feature-id`."
      ],
      "metadata": {
        "id": "aXWuUfrXER_R"
      }
    },
    {
      "cell_type": "code",
      "source": [
        "git checkout -b feature-id master  # creates the branch based off master\n",
        "git push origin feature-id # makes branch remotely available"
      ],
      "metadata": {
        "id": "oTcL8FPZDEJy"
      },
      "execution_count": null,
      "outputs": []
    },
    {
      "cell_type": "markdown",
      "source": [
        "When you create this branch on your local machine, your local machine will be on branch `feature-id`. This means that all of your work will be committed and saved to branch `feature-id`.\n",
        "\n",
        "If you want to switch to a different branch (for instance, `master`), you can use the command:"
      ],
      "metadata": {
        "id": "mI_gvtMxEqs8"
      }
    },
    {
      "cell_type": "code",
      "source": [
        "git checkout master\n",
        "# or git checkout <branch name> !"
      ],
      "metadata": {
        "id": "GX_P4d5WEuGn"
      },
      "execution_count": null,
      "outputs": []
    },
    {
      "cell_type": "markdown",
      "source": [
        "During the lifespan of the feature development, the developer should watch the master branch to see if there have been commits since the feature was branched. Ideally, everyone will be working on different sections of code while working on projects. This helps us prevent merge conflicts!\n",
        "\n",
        "We'll discuss what merge conflicts are and how to fix them in a later section. For now, here's how to pull changes down from master into your working branch."
      ],
      "metadata": {
        "id": "r0z_5jv2D-SK"
      }
    },
    {
      "cell_type": "code",
      "execution_count": null,
      "metadata": {
        "id": "2kyNQhFYoHYx"
      },
      "outputs": [],
      "source": [
        "git merge master # this merges changes from master into your working branch."
      ]
    },
    {
      "cell_type": "markdown",
      "source": [
        "Once features are built out, you'll need to create a pull request to merge them to `master`. We'll discuss how to do this in a later section. Let's now discuss bugfix branches!\n",
        "\n"
      ],
      "metadata": {
        "id": "dZ4clgVZFd3q"
      }
    },
    {
      "cell_type": "markdown",
      "source": [
        "### **Bugfix/Feature Adjustment Branches**\n",
        "\n",
        "Bugfix and Feature Adjustment branches are only semantically different from Feature Branches!\n",
        "\n",
        "**Bugfix branches are used when there is an error/bug in the deployed version of the project.** For example, maybe a search is not querying properly, or a single tab on the frontend does not work. A bug branch typically does not last long - maybe one deployment cycle. Bug branches are used to explicitly track the difference between bug development and feature development.\n",
        "\n",
        "In naming our bugfix branches, it may be beneficial to follow the naming convention of `bugfix-id` where `id` is the name of the bug. For example, `bugfix-button`.\n",
        "\n",
        "**Feature Adjustment** branches are used when we want to adjust/change a working feature! These are tasks that take less time to build out than a full feature. Think changing the color of buttons around the site, or maybe updating a few things on the about page.\n",
        "\n",
        "Same naming convention - `adjusting-id` where `id` is the name of the feature. For example, `adjusting-about`.\n",
        "\n",
        "The way to make these branches is the same as a regular feature branch, but here's the code in case it's needed!"
      ],
      "metadata": {
        "id": "xcVWogsBEET1"
      }
    },
    {
      "cell_type": "code",
      "source": [
        "git checkout -b bugfix-id master  # creates the branch based off master\n",
        "git push origin bugfix-id # makes branch remotely available"
      ],
      "metadata": {
        "id": "3AkAvZisEvy_"
      },
      "execution_count": null,
      "outputs": []
    },
    {
      "cell_type": "markdown",
      "source": [
        "Smaller fixes like bugfixes and feature adjustments should also be incorportated to main using a pull request!\n"
      ],
      "metadata": {
        "id": "Ux_FQRx5IUhB"
      }
    },
    {
      "cell_type": "markdown",
      "source": [
        "### **Hotfix Branches**\n",
        "\n",
        "Hotfix branches have a relatively niche use case: when there is a bug in the deployed version of a project that needs to be fixed as soon as possible. These branches can be merged without a pull request!"
      ],
      "metadata": {
        "id": "ysMUSB7bObL6"
      }
    },
    {
      "cell_type": "code",
      "source": [
        "git checkout -b hotfix-id master  # creates the branch based off master\n",
        "git push origin hotfix-id # makes branch remotely available"
      ],
      "metadata": {
        "id": "IMAaZrNJQVlh"
      },
      "execution_count": null,
      "outputs": []
    },
    {
      "cell_type": "markdown",
      "source": [
        "## **The Pull Request**\n",
        "\n",
        "1. **Communicating changes clearly!** PRs synopsize all of the changes encapsulated in your commits. Use them to clarify details, summarize work done, and highlight noteworthy changes.\n",
        "2. **Documentation!** Everyone loves a well-documented development process. By using PRs, your commit history documents itself, assisting others with understanding where you're at in your project.\n",
        "3. **Collaboration!** PRs require others to review and approve changes before they're pushed to master. This encourages collaboration and fosteres a deeper understanding of code across the development team.\n",
        "\n",
        "\n"
      ],
      "metadata": {
        "id": "ZGiqCwr2uda5"
      }
    },
    {
      "cell_type": "markdown",
      "source": [
        "Let's walk through the process of creating a pull request.\n",
        "\n",
        "When you look at your branch on Github, you'll notice some text in yellow that says:\n",
        "\n",
        "![picture](https://drive.google.com/file/d/1VsmwQLF93R8UtkKEB9Y92SlwGb7tJtaa/view?usp=sharing)"
      ],
      "metadata": {
        "id": "zVYCP_xbs4yr"
      }
    },
    {
      "cell_type": "markdown",
      "source": [
        "## References\n",
        "\n",
        "[Jeremy Helms' Branching Standards](https://gist.github.com/digitaljhelms/4287848) are wonderful and I took a lot of content from this document!\n",
        "\n",
        "[Pull Request Conventions](https://docs.github.com/en/pull-requests/collaborating-with-pull-requests/proposing-changes-to-your-work-with-pull-requests/creating-a-pull-request)\n",
        "\n",
        "[Octoenergy's pull request conventions](https://github.com/octoenergy/conventions/blob/main/conventions/pull-requests.md)"
      ],
      "metadata": {
        "id": "S9-9C1vvshsM"
      }
    }
  ]
}